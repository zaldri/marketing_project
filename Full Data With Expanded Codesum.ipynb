{
 "cells": [
  {
   "cell_type": "code",
   "execution_count": 107,
   "metadata": {
    "collapsed": false
   },
   "outputs": [],
   "source": [
    "import pandas as pd\n",
    "import numpy as np\n",
    "\n",
    "wallmart = pd.read_csv(\"full_table.csv\")"
   ]
  },
  {
   "cell_type": "code",
   "execution_count": 108,
   "metadata": {
    "collapsed": false
   },
   "outputs": [
    {
     "data": {
      "text/plain": [
       "['RA',\n",
       " 'FZ',\n",
       " 'FG',\n",
       " 'BR',\n",
       " 'UP',\n",
       " 'MI',\n",
       " 'SN',\n",
       " 'HZ',\n",
       " 'VC',\n",
       " 'TS',\n",
       " 'DZ',\n",
       " 'BL',\n",
       " 'BC',\n",
       " 'DU',\n",
       " 'SQ',\n",
       " 'PL',\n",
       " 'FU',\n",
       " 'GR',\n",
       " 'GS',\n",
       " 'SG',\n",
       " 'PR',\n",
       " 'FG+']"
      ]
     },
     "execution_count": 108,
     "metadata": {},
     "output_type": "execute_result"
    }
   ],
   "source": [
    "def remove_space(s):\n",
    "    t = s.replace(\" \",\"\").replace(\"+\",\"\")\n",
    "    return [t[i:i+2] for i in xrange(0, len(t), 2)]\n",
    "\n",
    "seperated_codes = wallmart['codesum'].map(remove_space)\n",
    "\n",
    "def grab_plus(s):\n",
    "    t = s.replace(\" \",\"\")\n",
    "    return [t[i-2:i+1] for i in xrange(0, len(t), 2) if t[i] == '+']\n",
    "\n",
    "codes_plus = wallmart['codesum'].map(grab_plus)\n",
    "\n",
    "big_list = []\n",
    "\n",
    "def master_list(s):\n",
    "    for i in s:\n",
    "        if i not in big_list:\n",
    "            big_list.append(i)\n",
    "\n",
    "seperated_codes.map(master_list)            \n",
    "codes_plus.map(master_list)\n",
    "\n",
    "big_list"
   ]
  },
  {
   "cell_type": "code",
   "execution_count": 112,
   "metadata": {
    "collapsed": false
   },
   "outputs": [],
   "source": [
    "for i in big_list:\n",
    "    wallmart[i] = wallmart['codesum'].str.contains(i).astype(int)\n",
    "\n",
    "wallmart = wallmart.drop('codesum', 1)"
   ]
  },
  {
   "cell_type": "code",
   "execution_count": null,
   "metadata": {
    "collapsed": false
   },
   "outputs": [],
   "source": []
  },
  {
   "cell_type": "code",
   "execution_count": 96,
   "metadata": {
    "collapsed": false
   },
   "outputs": [],
   "source": []
  },
  {
   "cell_type": "code",
   "execution_count": null,
   "metadata": {
    "collapsed": false
   },
   "outputs": [],
   "source": []
  },
  {
   "cell_type": "code",
   "execution_count": 104,
   "metadata": {
    "collapsed": false
   },
   "outputs": [],
   "source": []
  },
  {
   "cell_type": "code",
   "execution_count": null,
   "metadata": {
    "collapsed": false
   },
   "outputs": [],
   "source": []
  },
  {
   "cell_type": "code",
   "execution_count": null,
   "metadata": {
    "collapsed": true
   },
   "outputs": [],
   "source": []
  }
 ],
 "metadata": {
  "kernelspec": {
   "display_name": "Python 2",
   "language": "python",
   "name": "python2"
  },
  "language_info": {
   "codemirror_mode": {
    "name": "ipython",
    "version": 2
   },
   "file_extension": ".py",
   "mimetype": "text/x-python",
   "name": "python",
   "nbconvert_exporter": "python",
   "pygments_lexer": "ipython2",
   "version": "2.7.10"
  }
 },
 "nbformat": 4,
 "nbformat_minor": 0
}
