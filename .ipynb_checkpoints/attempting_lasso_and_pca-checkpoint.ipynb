{
 "cells": [
  {
   "cell_type": "code",
   "execution_count": 2,
   "metadata": {
    "collapsed": false
   },
   "outputs": [
    {
     "name": "stderr",
     "output_type": "stream",
     "text": [
      "/Users/Zach/anaconda/lib/python2.7/site-packages/pandas/io/parsers.py:1170: DtypeWarning: Columns (4,5,6,8,9,10,11,17,18,19,20,21) have mixed types. Specify dtype option on import or set low_memory=False.\n",
      "  data = self._reader.read(nrows)\n"
     ]
    }
   ],
   "source": [
    "import pandas as pd\n",
    "import numpy as np\n",
    "\n",
    "walmart = pd.read_csv(\"full_table.csv\")"
   ]
  },
  {
   "cell_type": "code",
   "execution_count": 3,
   "metadata": {
    "collapsed": false
   },
   "outputs": [
    {
     "data": {
      "text/plain": [
       "['RA',\n",
       " 'FZ',\n",
       " 'FG',\n",
       " 'BR',\n",
       " 'UP',\n",
       " 'MI',\n",
       " 'SN',\n",
       " 'HZ',\n",
       " 'VC',\n",
       " 'TS',\n",
       " 'DZ',\n",
       " 'BL',\n",
       " 'BC',\n",
       " 'DU',\n",
       " 'SQ',\n",
       " 'PL',\n",
       " 'FU',\n",
       " 'GR',\n",
       " 'GS',\n",
       " 'SG',\n",
       " 'PR',\n",
       " 'FG+']"
      ]
     },
     "execution_count": 3,
     "metadata": {},
     "output_type": "execute_result"
    }
   ],
   "source": [
    "def remove_space(s):\n",
    "    t = s.replace(\" \",\"\").replace(\"+\",\"\")\n",
    "    return [t[i:i+2] for i in xrange(0, len(t), 2)]\n",
    "\n",
    "seperated_codes = walmart['codesum'].map(remove_space)\n",
    "\n",
    "def grab_plus(s):\n",
    "    t = s.replace(\" \",\"\")\n",
    "    return [t[i-2:i+1] for i in xrange(0, len(t), 2) if t[i] == '+']\n",
    "\n",
    "codes_plus = walmart['codesum'].map(grab_plus)\n",
    "\n",
    "big_list = []\n",
    "\n",
    "def master_list(s):\n",
    "    for i in s:\n",
    "        if i not in big_list:\n",
    "            big_list.append(i)\n",
    "\n",
    "seperated_codes.map(master_list)            \n",
    "codes_plus.map(master_list)\n",
    "\n",
    "big_list"
   ]
  },
  {
   "cell_type": "code",
   "execution_count": 5,
   "metadata": {
    "collapsed": false
   },
   "outputs": [],
   "source": [
    "for i in big_list:\n",
    "    walmart[i] = walmart['codesum'].str.contains(i).astype(int)\n",
    "\n",
    "walmart = walmart.drop('codesum', 1)"
   ]
  },
  {
   "cell_type": "code",
   "execution_count": 6,
   "metadata": {
    "collapsed": false
   },
   "outputs": [
    {
     "data": {
      "text/plain": [
       "pandas.core.frame.DataFrame"
      ]
     },
     "execution_count": 6,
     "metadata": {},
     "output_type": "execute_result"
    }
   ],
   "source": [
    "type(walmart)"
   ]
  },
  {
   "cell_type": "code",
   "execution_count": 22,
   "metadata": {
    "collapsed": false
   },
   "outputs": [
    {
     "data": {
      "text/plain": [
       "Index([u'date', u'store_nbr', u'item_nbr', u'units', u'tmax', u'tmin', u'tavg',\n",
       "       u'depart', u'dewpoint', u'wetbulb', u'heat', u'cool', u'sunrise',\n",
       "       u'sunset', u'snowfall', u'preciptotal', u'stnpressure', u'sealevel',\n",
       "       u'resultspeed', u'resultdir', u'avgspeed', u'RA', u'FZ', u'FG', u'BR',\n",
       "       u'UP', u'MI', u'SN', u'HZ', u'VC', u'TS', u'DZ', u'BL', u'BC', u'DU',\n",
       "       u'SQ', u'PL', u'FU', u'GR', u'GS', u'SG', u'PR', u'FG+'],\n",
       "      dtype='object')"
      ]
     },
     "execution_count": 22,
     "metadata": {},
     "output_type": "execute_result"
    }
   ],
   "source": [
    "walmart.columns"
   ]
  },
  {
   "cell_type": "code",
   "execution_count": 29,
   "metadata": {
    "collapsed": false
   },
   "outputs": [],
   "source": [
    "walmart.columns = ['date', 'store_nbr', 'item_nbr', 'units', 'tmax', 'tmin', 'tavg',\n",
    "                  'depart', 'dewpoint', 'wetbulb', 'heat', 'cool', 'sunrise',\n",
    "                  'sunset', 'snowfall', 'perciptotal', 'stnpressure', 'sealevel',\n",
    "                  'resultspeed', 'resultdir', 'avgspeed', 'RA', 'FZ', 'FG', 'BR',\n",
    "                  'UP', 'MI', 'SN', 'HZ', 'VC', 'TS', 'DZ', 'BL', 'BC', 'DU',\n",
    "                  'SQ', 'PL', 'FU', 'GR', 'GS', 'SG', 'PR', 'FG2']"
   ]
  },
  {
   "cell_type": "code",
   "execution_count": 30,
   "metadata": {
    "collapsed": false
   },
   "outputs": [
    {
     "data": {
      "text/plain": [
       "Index([u'date', u'store_nbr', u'item_nbr', u'units', u'tmax', u'tmin', u'tavg',\n",
       "       u'depart', u'dewpoint', u'wetbulb', u'heat', u'cool', u'sunrise',\n",
       "       u'sunset', u'snowfall', u'perciptotal', u'stnpressure', u'sealevel',\n",
       "       u'resultspeed', u'resultdir', u'avgspeed', u'RA', u'FZ', u'FG', u'BR',\n",
       "       u'UP', u'MI', u'SN', u'HZ', u'VC', u'TS', u'DZ', u'BL', u'BC', u'DU',\n",
       "       u'SQ', u'PL', u'FU', u'GR', u'GS', u'SG', u'PR', u'FG2'],\n",
       "      dtype='object')"
      ]
     },
     "execution_count": 30,
     "metadata": {},
     "output_type": "execute_result"
    }
   ],
   "source": [
    "walmart.columns"
   ]
  },
  {
   "cell_type": "code",
   "execution_count": null,
   "metadata": {
    "collapsed": false
   },
   "outputs": [],
   "source": [
    "## Lasso attempt\n",
    "from patsy import dmatrices\n",
    "y, x = dmatrices('units~date+store_nbr+item_nbr+tmax+tmin+tavg+depart+dewpoint+wetbulb+heat+cool+sunrise+sunset+snowfall+perciptotal+stnpressure+sealevel+resultspeed+resultdir+avgspeed+RA+FZ+FG+BR+UP+MI+SN+HZ+VC+TS+DZ+BL+BC+DU+SQ+PL+FU+GR+GS+SG+PR+FG2',\n",
    "                data = walmart, return_type = 'dataframe')"
   ]
  },
  {
   "cell_type": "code",
   "execution_count": null,
   "metadata": {
    "collapsed": false
   },
   "outputs": [],
   "source": [
    "from sklearn.preprocessing import scale, lasso_path, lars_path\n",
    "from sklearn.linear_model import LassoCV, Ridge, Lasso\n",
    "from sklearn.metrics import mean_squared_error\n",
    "import pandas\n",
    "import math\n",
    "from math import sqrt\n",
    "%pylab inline\n",
    "import pylab as pl\n",
    "import numpy "
   ]
  },
  {
   "cell_type": "code",
   "execution_count": 104,
   "metadata": {
    "collapsed": false
   },
   "outputs": [],
   "source": [
    "train_x = x.as_matrix()\n",
    "train_y = y.as_matrix()\n",
    "train_x_scaled = scale(train_x, with_mean = True, with_std = True)\n",
    "train_y = numpy.hstack(train_y)\n",
    "\n",
    "params = [0.0001, 0.0005, 0.001, 0.005, 0.01, 0.05, 0.1, 0.2, 0.3, 0.4, 0.5]"
   ]
  },
  {
   "cell_type": "code",
   "execution_count": null,
   "metadata": {
    "collapsed": false
   },
   "outputs": [],
   "source": [
    "alphas, coefs, _ = lasso_path(train_x_scaled, train_y, alphas = params)"
   ]
  },
  {
   "cell_type": "code",
   "execution_count": null,
   "metadata": {
    "collapsed": true
   },
   "outputs": [],
   "source": []
  },
  {
   "cell_type": "code",
   "execution_count": null,
   "metadata": {
    "collapsed": true
   },
   "outputs": [],
   "source": [
    "## PCA\n",
    "from sklearn.decomposition import PCA"
   ]
  },
  {
   "cell_type": "markdown",
   "metadata": {},
   "source": []
  }
 ],
 "metadata": {
  "kernelspec": {
   "display_name": "Python 2",
   "language": "python",
   "name": "python2"
  },
  "language_info": {
   "codemirror_mode": {
    "name": "ipython",
    "version": 2
   },
   "file_extension": ".py",
   "mimetype": "text/x-python",
   "name": "python",
   "nbconvert_exporter": "python",
   "pygments_lexer": "ipython2",
   "version": "2.7.10"
  }
 },
 "nbformat": 4,
 "nbformat_minor": 0
}
